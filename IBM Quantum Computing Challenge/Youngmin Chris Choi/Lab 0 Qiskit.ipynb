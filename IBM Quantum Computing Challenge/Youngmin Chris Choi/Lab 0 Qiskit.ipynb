{
 "cells": [
  {
   "cell_type": "code",
   "execution_count": 1,
   "metadata": {},
   "outputs": [],
   "source": [
    "import qiskit"
   ]
  },
  {
   "cell_type": "code",
   "execution_count": 2,
   "metadata": {},
   "outputs": [
    {
     "data": {
      "text/plain": [
       "'1.1.0'"
      ]
     },
     "execution_count": 2,
     "metadata": {},
     "output_type": "execute_result"
    }
   ],
   "source": [
    "qiskit.__version__"
   ]
  },
  {
   "cell_type": "code",
   "execution_count": 3,
   "metadata": {},
   "outputs": [
    {
     "name": "stdout",
     "output_type": "stream",
     "text": [
      "Collecting qiskit==1.0.2 (from qiskit[visualization]==1.0.2)Note: you may need to restart the kernel to use updated packages.\n",
      "\n",
      "  Downloading qiskit-1.0.2-cp38-abi3-win_amd64.whl.metadata (12 kB)\n",
      "Requirement already satisfied: rustworkx>=0.14.0 in c:\\users\\chris\\miniconda3\\envs\\qiskit\\lib\\site-packages (from qiskit==1.0.2->qiskit[visualization]==1.0.2) (0.14.2)\n",
      "Requirement already satisfied: numpy<2,>=1.17 in c:\\users\\chris\\miniconda3\\envs\\qiskit\\lib\\site-packages (from qiskit==1.0.2->qiskit[visualization]==1.0.2) (1.26.4)\n",
      "Requirement already satisfied: scipy>=1.5 in c:\\users\\chris\\miniconda3\\envs\\qiskit\\lib\\site-packages (from qiskit==1.0.2->qiskit[visualization]==1.0.2) (1.13.1)\n",
      "Requirement already satisfied: sympy>=1.3 in c:\\users\\chris\\miniconda3\\envs\\qiskit\\lib\\site-packages (from qiskit==1.0.2->qiskit[visualization]==1.0.2) (1.12.1)\n",
      "Requirement already satisfied: dill>=0.3 in c:\\users\\chris\\miniconda3\\envs\\qiskit\\lib\\site-packages (from qiskit==1.0.2->qiskit[visualization]==1.0.2) (0.3.8)\n",
      "Requirement already satisfied: python-dateutil>=2.8.0 in c:\\users\\chris\\miniconda3\\envs\\qiskit\\lib\\site-packages (from qiskit==1.0.2->qiskit[visualization]==1.0.2) (2.9.0)\n",
      "Requirement already satisfied: stevedore>=3.0.0 in c:\\users\\chris\\miniconda3\\envs\\qiskit\\lib\\site-packages (from qiskit==1.0.2->qiskit[visualization]==1.0.2) (5.2.0)\n",
      "Requirement already satisfied: typing-extensions in c:\\users\\chris\\miniconda3\\envs\\qiskit\\lib\\site-packages (from qiskit==1.0.2->qiskit[visualization]==1.0.2) (4.12.1)\n",
      "Requirement already satisfied: symengine>=0.11 in c:\\users\\chris\\miniconda3\\envs\\qiskit\\lib\\site-packages (from qiskit==1.0.2->qiskit[visualization]==1.0.2) (0.11.0)\n",
      "Requirement already satisfied: matplotlib>=3.3 in c:\\users\\chris\\miniconda3\\envs\\qiskit\\lib\\site-packages (from qiskit[visualization]==1.0.2) (3.9.0)\n",
      "Collecting pydot (from qiskit[visualization]==1.0.2)\n",
      "  Downloading pydot-2.0.0-py3-none-any.whl.metadata (9.6 kB)\n",
      "Requirement already satisfied: Pillow>=4.2.1 in c:\\users\\chris\\miniconda3\\envs\\qiskit\\lib\\site-packages (from qiskit[visualization]==1.0.2) (10.3.0)\n",
      "Requirement already satisfied: pylatexenc>=1.4 in c:\\users\\chris\\miniconda3\\envs\\qiskit\\lib\\site-packages (from qiskit[visualization]==1.0.2) (2.10)\n",
      "Collecting seaborn>=0.9.0 (from qiskit[visualization]==1.0.2)\n",
      "  Downloading seaborn-0.13.2-py3-none-any.whl.metadata (5.4 kB)\n",
      "Requirement already satisfied: contourpy>=1.0.1 in c:\\users\\chris\\miniconda3\\envs\\qiskit\\lib\\site-packages (from matplotlib>=3.3->qiskit[visualization]==1.0.2) (1.2.1)\n",
      "Requirement already satisfied: cycler>=0.10 in c:\\users\\chris\\miniconda3\\envs\\qiskit\\lib\\site-packages (from matplotlib>=3.3->qiskit[visualization]==1.0.2) (0.12.1)\n",
      "Requirement already satisfied: fonttools>=4.22.0 in c:\\users\\chris\\miniconda3\\envs\\qiskit\\lib\\site-packages (from matplotlib>=3.3->qiskit[visualization]==1.0.2) (4.53.0)\n",
      "Requirement already satisfied: kiwisolver>=1.3.1 in c:\\users\\chris\\miniconda3\\envs\\qiskit\\lib\\site-packages (from matplotlib>=3.3->qiskit[visualization]==1.0.2) (1.4.5)\n",
      "Requirement already satisfied: packaging>=20.0 in c:\\users\\chris\\miniconda3\\envs\\qiskit\\lib\\site-packages (from matplotlib>=3.3->qiskit[visualization]==1.0.2) (24.0)\n",
      "Requirement already satisfied: pyparsing>=2.3.1 in c:\\users\\chris\\miniconda3\\envs\\qiskit\\lib\\site-packages (from matplotlib>=3.3->qiskit[visualization]==1.0.2) (3.1.2)\n",
      "Requirement already satisfied: six>=1.5 in c:\\users\\chris\\miniconda3\\envs\\qiskit\\lib\\site-packages (from python-dateutil>=2.8.0->qiskit==1.0.2->qiskit[visualization]==1.0.2) (1.16.0)\n",
      "Collecting pandas>=1.2 (from seaborn>=0.9.0->qiskit[visualization]==1.0.2)\n",
      "  Downloading pandas-2.2.2-cp312-cp312-win_amd64.whl.metadata (19 kB)\n",
      "Requirement already satisfied: pbr!=2.1.0,>=2.0.0 in c:\\users\\chris\\miniconda3\\envs\\qiskit\\lib\\site-packages (from stevedore>=3.0.0->qiskit==1.0.2->qiskit[visualization]==1.0.2) (6.0.0)\n",
      "Requirement already satisfied: mpmath<1.4.0,>=1.1.0 in c:\\users\\chris\\miniconda3\\envs\\qiskit\\lib\\site-packages (from sympy>=1.3->qiskit==1.0.2->qiskit[visualization]==1.0.2) (1.3.0)\n",
      "Collecting pytz>=2020.1 (from pandas>=1.2->seaborn>=0.9.0->qiskit[visualization]==1.0.2)\n",
      "  Downloading pytz-2024.1-py2.py3-none-any.whl.metadata (22 kB)\n",
      "Collecting tzdata>=2022.7 (from pandas>=1.2->seaborn>=0.9.0->qiskit[visualization]==1.0.2)\n",
      "  Downloading tzdata-2024.1-py2.py3-none-any.whl.metadata (1.4 kB)\n",
      "Downloading qiskit-1.0.2-cp38-abi3-win_amd64.whl (4.1 MB)\n",
      "   ---------------------------------------- 0.0/4.1 MB ? eta -:--:--\n",
      "   --------- ------------------------------ 0.9/4.1 MB 20.0 MB/s eta 0:00:01\n",
      "   --------------------- ------------------ 2.2/4.1 MB 23.5 MB/s eta 0:00:01\n",
      "   -------------------------------- ------- 3.3/4.1 MB 23.8 MB/s eta 0:00:01\n",
      "   ---------------------------------------- 4.1/4.1 MB 23.9 MB/s eta 0:00:00\n",
      "Downloading seaborn-0.13.2-py3-none-any.whl (294 kB)\n",
      "   ---------------------------------------- 0.0/294.9 kB ? eta -:--:--\n",
      "   --------------------------------------- 294.9/294.9 kB 17.8 MB/s eta 0:00:00\n",
      "Downloading pydot-2.0.0-py3-none-any.whl (22 kB)\n",
      "Downloading pandas-2.2.2-cp312-cp312-win_amd64.whl (11.5 MB)\n",
      "   ---------------------------------------- 0.0/11.5 MB ? eta -:--:--\n",
      "   --- ------------------------------------ 1.0/11.5 MB 20.9 MB/s eta 0:00:01\n",
      "   ------- -------------------------------- 2.2/11.5 MB 28.1 MB/s eta 0:00:01\n",
      "   ---------- ----------------------------- 3.1/11.5 MB 24.7 MB/s eta 0:00:01\n",
      "   -------------- ------------------------- 4.2/11.5 MB 24.3 MB/s eta 0:00:01\n",
      "   ------------------ --------------------- 5.4/11.5 MB 22.9 MB/s eta 0:00:01\n",
      "   ---------------------- ----------------- 6.6/11.5 MB 23.4 MB/s eta 0:00:01\n",
      "   --------------------------- ------------ 7.9/11.5 MB 24.0 MB/s eta 0:00:01\n",
      "   --------------------------- ------------ 7.9/11.5 MB 24.0 MB/s eta 0:00:01\n",
      "   ----------------------------- ---------- 8.6/11.5 MB 20.3 MB/s eta 0:00:01\n",
      "   ---------------------------------- ----- 9.9/11.5 MB 21.0 MB/s eta 0:00:01\n",
      "   ---------------------------------------  11.2/11.5 MB 21.8 MB/s eta 0:00:01\n",
      "   ---------------------------------------- 11.5/11.5 MB 20.5 MB/s eta 0:00:00\n",
      "Downloading pytz-2024.1-py2.py3-none-any.whl (505 kB)\n",
      "   ---------------------------------------- 0.0/505.5 kB ? eta -:--:--\n",
      "   --------------------------------------- 505.5/505.5 kB 31.0 MB/s eta 0:00:00\n",
      "Downloading tzdata-2024.1-py2.py3-none-any.whl (345 kB)\n",
      "   ---------------------------------------- 0.0/345.4 kB ? eta -:--:--\n",
      "   --------------------------------------- 345.4/345.4 kB 22.3 MB/s eta 0:00:00\n",
      "Installing collected packages: pytz, tzdata, pydot, qiskit, pandas, seaborn\n",
      "  Attempting uninstall: qiskit\n",
      "    Found existing installation: qiskit 1.1.0\n",
      "    Uninstalling qiskit-1.1.0:\n",
      "      Successfully uninstalled qiskit-1.1.0\n",
      "Successfully installed pandas-2.2.2 pydot-2.0.0 pytz-2024.1 qiskit-1.0.2 seaborn-0.13.2 tzdata-2024.1\n"
     ]
    },
    {
     "name": "stderr",
     "output_type": "stream",
     "text": [
      "  WARNING: Failed to remove contents in a temporary directory 'C:\\Users\\Chris\\miniconda3\\envs\\qiskit\\Lib\\site-packages\\~iskit'.\n",
      "  You can safely remove it manually.\n"
     ]
    }
   ],
   "source": [
    "%pip install qiskit[visualization]==1.0.2"
   ]
  },
  {
   "cell_type": "code",
   "execution_count": 6,
   "metadata": {},
   "outputs": [
    {
     "name": "stdout",
     "output_type": "stream",
     "text": [
      "Collecting qiskit_aer\n",
      "  Downloading qiskit_aer-0.14.2-cp312-cp312-win_amd64.whl.metadata (8.3 kB)\n",
      "Requirement already satisfied: qiskit>=0.45.2 in c:\\users\\chris\\miniconda3\\envs\\qiskit\\lib\\site-packages (from qiskit_aer) (1.0.2)\n",
      "Requirement already satisfied: numpy>=1.16.3 in c:\\users\\chris\\miniconda3\\envs\\qiskit\\lib\\site-packages (from qiskit_aer) (1.26.4)\n",
      "Requirement already satisfied: scipy>=1.0 in c:\\users\\chris\\miniconda3\\envs\\qiskit\\lib\\site-packages (from qiskit_aer) (1.13.1)\n",
      "Requirement already satisfied: psutil>=5 in c:\\users\\chris\\miniconda3\\envs\\qiskit\\lib\\site-packages (from qiskit_aer) (5.9.0)\n",
      "Requirement already satisfied: rustworkx>=0.14.0 in c:\\users\\chris\\miniconda3\\envs\\qiskit\\lib\\site-packages (from qiskit>=0.45.2->qiskit_aer) (0.14.2)\n",
      "Requirement already satisfied: sympy>=1.3 in c:\\users\\chris\\miniconda3\\envs\\qiskit\\lib\\site-packages (from qiskit>=0.45.2->qiskit_aer) (1.12.1)\n",
      "Requirement already satisfied: dill>=0.3 in c:\\users\\chris\\miniconda3\\envs\\qiskit\\lib\\site-packages (from qiskit>=0.45.2->qiskit_aer) (0.3.8)\n",
      "Requirement already satisfied: python-dateutil>=2.8.0 in c:\\users\\chris\\miniconda3\\envs\\qiskit\\lib\\site-packages (from qiskit>=0.45.2->qiskit_aer) (2.9.0)\n",
      "Requirement already satisfied: stevedore>=3.0.0 in c:\\users\\chris\\miniconda3\\envs\\qiskit\\lib\\site-packages (from qiskit>=0.45.2->qiskit_aer) (5.2.0)\n",
      "Requirement already satisfied: typing-extensions in c:\\users\\chris\\miniconda3\\envs\\qiskit\\lib\\site-packages (from qiskit>=0.45.2->qiskit_aer) (4.12.1)\n",
      "Requirement already satisfied: symengine>=0.11 in c:\\users\\chris\\miniconda3\\envs\\qiskit\\lib\\site-packages (from qiskit>=0.45.2->qiskit_aer) (0.11.0)\n",
      "Requirement already satisfied: six>=1.5 in c:\\users\\chris\\miniconda3\\envs\\qiskit\\lib\\site-packages (from python-dateutil>=2.8.0->qiskit>=0.45.2->qiskit_aer) (1.16.0)\n",
      "Requirement already satisfied: pbr!=2.1.0,>=2.0.0 in c:\\users\\chris\\miniconda3\\envs\\qiskit\\lib\\site-packages (from stevedore>=3.0.0->qiskit>=0.45.2->qiskit_aer) (6.0.0)\n",
      "Requirement already satisfied: mpmath<1.4.0,>=1.1.0 in c:\\users\\chris\\miniconda3\\envs\\qiskit\\lib\\site-packages (from sympy>=1.3->qiskit>=0.45.2->qiskit_aer) (1.3.0)\n",
      "Downloading qiskit_aer-0.14.2-cp312-cp312-win_amd64.whl (9.5 MB)\n",
      "   ---------------------------------------- 0.0/9.5 MB ? eta -:--:--\n",
      "   ---------------------------------------- 0.0/9.5 MB ? eta -:--:--\n",
      "    --------------------------------------- 0.1/9.5 MB 2.0 MB/s eta 0:00:05\n",
      "   --- ------------------------------------ 0.8/9.5 MB 7.4 MB/s eta 0:00:02\n",
      "   ------ --------------------------------- 1.5/9.5 MB 9.8 MB/s eta 0:00:01\n",
      "   ---------- ----------------------------- 2.4/9.5 MB 11.8 MB/s eta 0:00:01\n",
      "   ------------ --------------------------- 2.9/9.5 MB 12.3 MB/s eta 0:00:01\n",
      "   ------------- -------------------------- 3.3/9.5 MB 11.0 MB/s eta 0:00:01\n",
      "   ------------------ --------------------- 4.3/9.5 MB 12.5 MB/s eta 0:00:01\n",
      "   ------------------ --------------------- 4.4/9.5 MB 11.6 MB/s eta 0:00:01\n",
      "   ------------------ --------------------- 4.4/9.5 MB 11.6 MB/s eta 0:00:01\n",
      "   ------------------- -------------------- 4.5/9.5 MB 9.6 MB/s eta 0:00:01\n",
      "   ------------------- -------------------- 4.6/9.5 MB 8.7 MB/s eta 0:00:01\n",
      "   -------------------- ------------------- 4.8/9.5 MB 8.5 MB/s eta 0:00:01\n",
      "   ---------------------- ----------------- 5.5/9.5 MB 8.7 MB/s eta 0:00:01\n",
      "   --------------------------- ------------ 6.5/9.5 MB 9.7 MB/s eta 0:00:01\n",
      "   --------------------------------- ------ 7.9/9.5 MB 11.0 MB/s eta 0:00:01\n",
      "   -------------------------------------- - 9.2/9.5 MB 12.1 MB/s eta 0:00:01\n",
      "   ---------------------------------------- 9.5/9.5 MB 11.9 MB/s eta 0:00:00\n",
      "Installing collected packages: qiskit_aer\n",
      "Successfully installed qiskit_aer-0.14.2\n",
      "Note: you may need to restart the kernel to use updated packages.\n",
      "Requirement already satisfied: qiskit_ibm_runtime in c:\\users\\chris\\miniconda3\\envs\\qiskit\\lib\\site-packages (0.23.0)\n",
      "Requirement already satisfied: requests>=2.19 in c:\\users\\chris\\miniconda3\\envs\\qiskit\\lib\\site-packages (from qiskit_ibm_runtime) (2.32.2)\n",
      "Requirement already satisfied: requests-ntlm>=1.1.0 in c:\\users\\chris\\miniconda3\\envs\\qiskit\\lib\\site-packages (from qiskit_ibm_runtime) (1.2.0)\n",
      "Requirement already satisfied: numpy>=1.13 in c:\\users\\chris\\miniconda3\\envs\\qiskit\\lib\\site-packages (from qiskit_ibm_runtime) (1.26.4)\n",
      "Requirement already satisfied: urllib3>=1.21.1 in c:\\users\\chris\\miniconda3\\envs\\qiskit\\lib\\site-packages (from qiskit_ibm_runtime) (2.2.1)\n",
      "Requirement already satisfied: python-dateutil>=2.8.0 in c:\\users\\chris\\miniconda3\\envs\\qiskit\\lib\\site-packages (from qiskit_ibm_runtime) (2.9.0)\n",
      "Requirement already satisfied: websocket-client>=1.5.1 in c:\\users\\chris\\miniconda3\\envs\\qiskit\\lib\\site-packages (from qiskit_ibm_runtime) (1.8.0)\n",
      "Requirement already satisfied: ibm-platform-services>=0.22.6 in c:\\users\\chris\\miniconda3\\envs\\qiskit\\lib\\site-packages (from qiskit_ibm_runtime) (0.53.7)\n",
      "Requirement already satisfied: pydantic in c:\\users\\chris\\miniconda3\\envs\\qiskit\\lib\\site-packages (from qiskit_ibm_runtime) (2.7.3)\n",
      "Requirement already satisfied: qiskit>=1.0.0 in c:\\users\\chris\\miniconda3\\envs\\qiskit\\lib\\site-packages (from qiskit_ibm_runtime) (1.0.2)\n",
      "Requirement already satisfied: ibm-cloud-sdk-core<4.0.0,>=3.19.2 in c:\\users\\chris\\miniconda3\\envs\\qiskit\\lib\\site-packages (from ibm-platform-services>=0.22.6->qiskit_ibm_runtime) (3.20.1)\n",
      "Requirement already satisfied: six>=1.5 in c:\\users\\chris\\miniconda3\\envs\\qiskit\\lib\\site-packages (from python-dateutil>=2.8.0->qiskit_ibm_runtime) (1.16.0)\n",
      "Requirement already satisfied: rustworkx>=0.14.0 in c:\\users\\chris\\miniconda3\\envs\\qiskit\\lib\\site-packages (from qiskit>=1.0.0->qiskit_ibm_runtime) (0.14.2)\n",
      "Requirement already satisfied: scipy>=1.5 in c:\\users\\chris\\miniconda3\\envs\\qiskit\\lib\\site-packages (from qiskit>=1.0.0->qiskit_ibm_runtime) (1.13.1)\n",
      "Requirement already satisfied: sympy>=1.3 in c:\\users\\chris\\miniconda3\\envs\\qiskit\\lib\\site-packages (from qiskit>=1.0.0->qiskit_ibm_runtime) (1.12.1)\n",
      "Requirement already satisfied: dill>=0.3 in c:\\users\\chris\\miniconda3\\envs\\qiskit\\lib\\site-packages (from qiskit>=1.0.0->qiskit_ibm_runtime) (0.3.8)\n",
      "Requirement already satisfied: stevedore>=3.0.0 in c:\\users\\chris\\miniconda3\\envs\\qiskit\\lib\\site-packages (from qiskit>=1.0.0->qiskit_ibm_runtime) (5.2.0)\n",
      "Requirement already satisfied: typing-extensions in c:\\users\\chris\\miniconda3\\envs\\qiskit\\lib\\site-packages (from qiskit>=1.0.0->qiskit_ibm_runtime) (4.12.1)\n",
      "Requirement already satisfied: symengine>=0.11 in c:\\users\\chris\\miniconda3\\envs\\qiskit\\lib\\site-packages (from qiskit>=1.0.0->qiskit_ibm_runtime) (0.11.0)\n",
      "Requirement already satisfied: charset-normalizer<4,>=2 in c:\\users\\chris\\miniconda3\\envs\\qiskit\\lib\\site-packages (from requests>=2.19->qiskit_ibm_runtime) (3.3.2)\n",
      "Requirement already satisfied: idna<4,>=2.5 in c:\\users\\chris\\miniconda3\\envs\\qiskit\\lib\\site-packages (from requests>=2.19->qiskit_ibm_runtime) (3.7)\n",
      "Requirement already satisfied: certifi>=2017.4.17 in c:\\users\\chris\\miniconda3\\envs\\qiskit\\lib\\site-packages (from requests>=2.19->qiskit_ibm_runtime) (2024.6.2)\n",
      "Requirement already satisfied: cryptography>=1.3 in c:\\users\\chris\\miniconda3\\envs\\qiskit\\lib\\site-packages (from requests-ntlm>=1.1.0->qiskit_ibm_runtime) (42.0.8)\n",
      "Requirement already satisfied: pyspnego>=0.1.6 in c:\\users\\chris\\miniconda3\\envs\\qiskit\\lib\\site-packages (from requests-ntlm>=1.1.0->qiskit_ibm_runtime) (0.10.2)\n",
      "Requirement already satisfied: annotated-types>=0.4.0 in c:\\users\\chris\\miniconda3\\envs\\qiskit\\lib\\site-packages (from pydantic->qiskit_ibm_runtime) (0.7.0)\n",
      "Requirement already satisfied: pydantic-core==2.18.4 in c:\\users\\chris\\miniconda3\\envs\\qiskit\\lib\\site-packages (from pydantic->qiskit_ibm_runtime) (2.18.4)\n",
      "Requirement already satisfied: cffi>=1.12 in c:\\users\\chris\\miniconda3\\envs\\qiskit\\lib\\site-packages (from cryptography>=1.3->requests-ntlm>=1.1.0->qiskit_ibm_runtime) (1.16.0)\n",
      "Requirement already satisfied: PyJWT<3.0.0,>=2.8.0 in c:\\users\\chris\\miniconda3\\envs\\qiskit\\lib\\site-packages (from ibm-cloud-sdk-core<4.0.0,>=3.19.2->ibm-platform-services>=0.22.6->qiskit_ibm_runtime) (2.8.0)\n",
      "Requirement already satisfied: sspilib>=0.1.0 in c:\\users\\chris\\miniconda3\\envs\\qiskit\\lib\\site-packages (from pyspnego>=0.1.6->requests-ntlm>=1.1.0->qiskit_ibm_runtime) (0.1.0)\n",
      "Requirement already satisfied: pbr!=2.1.0,>=2.0.0 in c:\\users\\chris\\miniconda3\\envs\\qiskit\\lib\\site-packages (from stevedore>=3.0.0->qiskit>=1.0.0->qiskit_ibm_runtime) (6.0.0)\n",
      "Requirement already satisfied: mpmath<1.4.0,>=1.1.0 in c:\\users\\chris\\miniconda3\\envs\\qiskit\\lib\\site-packages (from sympy>=1.3->qiskit>=1.0.0->qiskit_ibm_runtime) (1.3.0)\n",
      "Requirement already satisfied: pycparser in c:\\users\\chris\\miniconda3\\envs\\qiskit\\lib\\site-packages (from cffi>=1.12->cryptography>=1.3->requests-ntlm>=1.1.0->qiskit_ibm_runtime) (2.22)\n",
      "Note: you may need to restart the kernel to use updated packages.\n",
      "Requirement already satisfied: matplotlib in c:\\users\\chris\\miniconda3\\envs\\qiskit\\lib\\site-packages (3.9.0)Note: you may need to restart the kernel to use updated packages.\n",
      "\n",
      "Requirement already satisfied: contourpy>=1.0.1 in c:\\users\\chris\\miniconda3\\envs\\qiskit\\lib\\site-packages (from matplotlib) (1.2.1)\n",
      "Requirement already satisfied: cycler>=0.10 in c:\\users\\chris\\miniconda3\\envs\\qiskit\\lib\\site-packages (from matplotlib) (0.12.1)\n",
      "Requirement already satisfied: fonttools>=4.22.0 in c:\\users\\chris\\miniconda3\\envs\\qiskit\\lib\\site-packages (from matplotlib) (4.53.0)\n",
      "Requirement already satisfied: kiwisolver>=1.3.1 in c:\\users\\chris\\miniconda3\\envs\\qiskit\\lib\\site-packages (from matplotlib) (1.4.5)\n",
      "Requirement already satisfied: numpy>=1.23 in c:\\users\\chris\\miniconda3\\envs\\qiskit\\lib\\site-packages (from matplotlib) (1.26.4)\n",
      "Requirement already satisfied: packaging>=20.0 in c:\\users\\chris\\miniconda3\\envs\\qiskit\\lib\\site-packages (from matplotlib) (24.0)\n",
      "Requirement already satisfied: pillow>=8 in c:\\users\\chris\\miniconda3\\envs\\qiskit\\lib\\site-packages (from matplotlib) (10.3.0)\n",
      "Requirement already satisfied: pyparsing>=2.3.1 in c:\\users\\chris\\miniconda3\\envs\\qiskit\\lib\\site-packages (from matplotlib) (3.1.2)\n",
      "Requirement already satisfied: python-dateutil>=2.7 in c:\\users\\chris\\miniconda3\\envs\\qiskit\\lib\\site-packages (from matplotlib) (2.9.0)\n",
      "Requirement already satisfied: six>=1.5 in c:\\users\\chris\\miniconda3\\envs\\qiskit\\lib\\site-packages (from python-dateutil>=2.7->matplotlib) (1.16.0)\n",
      "Requirement already satisfied: pylatexenc in c:\\users\\chris\\miniconda3\\envs\\qiskit\\lib\\site-packages (2.10)Note: you may need to restart the kernel to use updated packages.\n",
      "\n",
      "Collecting prototype-zneNote: you may need to restart the kernel to use updated packages.\n",
      "\n",
      "  Downloading prototype_zne-1.3.1-py3-none-any.whl.metadata (11 kB)\n",
      "Requirement already satisfied: qiskit>=0.45.1 in c:\\users\\chris\\miniconda3\\envs\\qiskit\\lib\\site-packages (from prototype-zne) (1.0.2)\n",
      "Requirement already satisfied: rustworkx>=0.14.0 in c:\\users\\chris\\miniconda3\\envs\\qiskit\\lib\\site-packages (from qiskit>=0.45.1->prototype-zne) (0.14.2)\n",
      "Requirement already satisfied: numpy<2,>=1.17 in c:\\users\\chris\\miniconda3\\envs\\qiskit\\lib\\site-packages (from qiskit>=0.45.1->prototype-zne) (1.26.4)\n",
      "Requirement already satisfied: scipy>=1.5 in c:\\users\\chris\\miniconda3\\envs\\qiskit\\lib\\site-packages (from qiskit>=0.45.1->prototype-zne) (1.13.1)\n",
      "Requirement already satisfied: sympy>=1.3 in c:\\users\\chris\\miniconda3\\envs\\qiskit\\lib\\site-packages (from qiskit>=0.45.1->prototype-zne) (1.12.1)\n",
      "Requirement already satisfied: dill>=0.3 in c:\\users\\chris\\miniconda3\\envs\\qiskit\\lib\\site-packages (from qiskit>=0.45.1->prototype-zne) (0.3.8)\n",
      "Requirement already satisfied: python-dateutil>=2.8.0 in c:\\users\\chris\\miniconda3\\envs\\qiskit\\lib\\site-packages (from qiskit>=0.45.1->prototype-zne) (2.9.0)\n",
      "Requirement already satisfied: stevedore>=3.0.0 in c:\\users\\chris\\miniconda3\\envs\\qiskit\\lib\\site-packages (from qiskit>=0.45.1->prototype-zne) (5.2.0)\n",
      "Requirement already satisfied: typing-extensions in c:\\users\\chris\\miniconda3\\envs\\qiskit\\lib\\site-packages (from qiskit>=0.45.1->prototype-zne) (4.12.1)\n",
      "Requirement already satisfied: symengine>=0.11 in c:\\users\\chris\\miniconda3\\envs\\qiskit\\lib\\site-packages (from qiskit>=0.45.1->prototype-zne) (0.11.0)\n",
      "Requirement already satisfied: six>=1.5 in c:\\users\\chris\\miniconda3\\envs\\qiskit\\lib\\site-packages (from python-dateutil>=2.8.0->qiskit>=0.45.1->prototype-zne) (1.16.0)\n",
      "Requirement already satisfied: pbr!=2.1.0,>=2.0.0 in c:\\users\\chris\\miniconda3\\envs\\qiskit\\lib\\site-packages (from stevedore>=3.0.0->qiskit>=0.45.1->prototype-zne) (6.0.0)\n",
      "Requirement already satisfied: mpmath<1.4.0,>=1.1.0 in c:\\users\\chris\\miniconda3\\envs\\qiskit\\lib\\site-packages (from sympy>=1.3->qiskit>=0.45.1->prototype-zne) (1.3.0)\n",
      "Downloading prototype_zne-1.3.1-py3-none-any.whl (56 kB)\n",
      "   ---------------------------------------- 0.0/56.5 kB ? eta -:--:--\n",
      "   ------- -------------------------------- 10.2/56.5 kB ? eta -:--:--\n",
      "   ---------------------------------------- 56.5/56.5 kB 984.8 kB/s eta 0:00:00\n",
      "Installing collected packages: prototype-zne\n",
      "Successfully installed prototype-zne-1.3.1\n",
      "Collecting git+https://github.com/qiskit-community/Quantum-Challenge-Grader.git\n",
      "  Cloning https://github.com/qiskit-community/Quantum-Challenge-Grader.git to c:\\users\\chris\\appdata\\local\\temp\\pip-req-build-967tk0j6\n",
      "  Resolved https://github.com/qiskit-community/Quantum-Challenge-Grader.git to commit 87d951509bdb78ecd3ec2c6f93b548590b3b2d17\n",
      "  Preparing metadata (setup.py): started\n",
      "  Preparing metadata (setup.py): finished with status 'done'\n",
      "Collecting typeguard (from qc_grader==0.18.8)\n",
      "  Downloading typeguard-4.3.0-py3-none-any.whl.metadata (3.7 kB)\n",
      "Collecting jsonpickle==3.0.3 (from qc_grader==0.18.8)\n",
      "  Downloading jsonpickle-3.0.3-py3-none-any.whl.metadata (7.3 kB)\n",
      "Collecting ipycytoscape (from qc_grader==0.18.8)\n",
      "  Downloading ipycytoscape-1.3.3-py2.py3-none-any.whl.metadata (7.5 kB)\n",
      "Collecting plotly (from qc_grader==0.18.8)\n",
      "  Downloading plotly-5.22.0-py3-none-any.whl.metadata (7.1 kB)\n",
      "Collecting networkx==3.2.1 (from qc_grader==0.18.8)\n",
      "  Downloading networkx-3.2.1-py3-none-any.whl.metadata (5.2 kB)\n",
      "Collecting ipywidgets>=7.6.0 (from ipycytoscape->qc_grader==0.18.8)\n",
      "  Using cached ipywidgets-8.1.3-py3-none-any.whl.metadata (2.4 kB)\n",
      "Collecting spectate>=1.0.0 (from ipycytoscape->qc_grader==0.18.8)\n",
      "  Downloading spectate-1.0.1-py2.py3-none-any.whl.metadata (2.2 kB)\n",
      "Collecting tenacity>=6.2.0 (from plotly->qc_grader==0.18.8)\n",
      "  Downloading tenacity-8.3.0-py3-none-any.whl.metadata (1.2 kB)\n",
      "Requirement already satisfied: packaging in c:\\users\\chris\\miniconda3\\envs\\qiskit\\lib\\site-packages (from plotly->qc_grader==0.18.8) (24.0)\n",
      "Requirement already satisfied: typing-extensions>=4.10.0 in c:\\users\\chris\\miniconda3\\envs\\qiskit\\lib\\site-packages (from typeguard->qc_grader==0.18.8) (4.12.1)\n",
      "Requirement already satisfied: comm>=0.1.3 in c:\\users\\chris\\miniconda3\\envs\\qiskit\\lib\\site-packages (from ipywidgets>=7.6.0->ipycytoscape->qc_grader==0.18.8) (0.2.2)\n",
      "Requirement already satisfied: ipython>=6.1.0 in c:\\users\\chris\\miniconda3\\envs\\qiskit\\lib\\site-packages (from ipywidgets>=7.6.0->ipycytoscape->qc_grader==0.18.8) (8.25.0)\n",
      "Requirement already satisfied: traitlets>=4.3.1 in c:\\users\\chris\\miniconda3\\envs\\qiskit\\lib\\site-packages (from ipywidgets>=7.6.0->ipycytoscape->qc_grader==0.18.8) (5.14.3)\n",
      "Collecting widgetsnbextension~=4.0.11 (from ipywidgets>=7.6.0->ipycytoscape->qc_grader==0.18.8)\n",
      "  Using cached widgetsnbextension-4.0.11-py3-none-any.whl.metadata (1.6 kB)\n",
      "Collecting jupyterlab-widgets~=3.0.11 (from ipywidgets>=7.6.0->ipycytoscape->qc_grader==0.18.8)\n",
      "  Using cached jupyterlab_widgets-3.0.11-py3-none-any.whl.metadata (4.1 kB)\n",
      "Requirement already satisfied: decorator in c:\\users\\chris\\miniconda3\\envs\\qiskit\\lib\\site-packages (from ipython>=6.1.0->ipywidgets>=7.6.0->ipycytoscape->qc_grader==0.18.8) (5.1.1)\n",
      "Requirement already satisfied: jedi>=0.16 in c:\\users\\chris\\miniconda3\\envs\\qiskit\\lib\\site-packages (from ipython>=6.1.0->ipywidgets>=7.6.0->ipycytoscape->qc_grader==0.18.8) (0.19.1)\n",
      "Requirement already satisfied: matplotlib-inline in c:\\users\\chris\\miniconda3\\envs\\qiskit\\lib\\site-packages (from ipython>=6.1.0->ipywidgets>=7.6.0->ipycytoscape->qc_grader==0.18.8) (0.1.7)\n",
      "Requirement already satisfied: prompt-toolkit<3.1.0,>=3.0.41 in c:\\users\\chris\\miniconda3\\envs\\qiskit\\lib\\site-packages (from ipython>=6.1.0->ipywidgets>=7.6.0->ipycytoscape->qc_grader==0.18.8) (3.0.46)\n",
      "Requirement already satisfied: pygments>=2.4.0 in c:\\users\\chris\\miniconda3\\envs\\qiskit\\lib\\site-packages (from ipython>=6.1.0->ipywidgets>=7.6.0->ipycytoscape->qc_grader==0.18.8) (2.18.0)\n",
      "Requirement already satisfied: stack-data in c:\\users\\chris\\miniconda3\\envs\\qiskit\\lib\\site-packages (from ipython>=6.1.0->ipywidgets>=7.6.0->ipycytoscape->qc_grader==0.18.8) (0.6.2)\n",
      "Requirement already satisfied: colorama in c:\\users\\chris\\miniconda3\\envs\\qiskit\\lib\\site-packages (from ipython>=6.1.0->ipywidgets>=7.6.0->ipycytoscape->qc_grader==0.18.8) (0.4.6)\n",
      "Requirement already satisfied: parso<0.9.0,>=0.8.3 in c:\\users\\chris\\miniconda3\\envs\\qiskit\\lib\\site-packages (from jedi>=0.16->ipython>=6.1.0->ipywidgets>=7.6.0->ipycytoscape->qc_grader==0.18.8) (0.8.4)\n",
      "Requirement already satisfied: wcwidth in c:\\users\\chris\\miniconda3\\envs\\qiskit\\lib\\site-packages (from prompt-toolkit<3.1.0,>=3.0.41->ipython>=6.1.0->ipywidgets>=7.6.0->ipycytoscape->qc_grader==0.18.8) (0.2.13)\n",
      "Requirement already satisfied: executing>=1.2.0 in c:\\users\\chris\\miniconda3\\envs\\qiskit\\lib\\site-packages (from stack-data->ipython>=6.1.0->ipywidgets>=7.6.0->ipycytoscape->qc_grader==0.18.8) (2.0.1)\n",
      "Requirement already satisfied: asttokens>=2.1.0 in c:\\users\\chris\\miniconda3\\envs\\qiskit\\lib\\site-packages (from stack-data->ipython>=6.1.0->ipywidgets>=7.6.0->ipycytoscape->qc_grader==0.18.8) (2.4.1)\n",
      "Requirement already satisfied: pure-eval in c:\\users\\chris\\miniconda3\\envs\\qiskit\\lib\\site-packages (from stack-data->ipython>=6.1.0->ipywidgets>=7.6.0->ipycytoscape->qc_grader==0.18.8) (0.2.2)\n",
      "Requirement already satisfied: six>=1.12.0 in c:\\users\\chris\\miniconda3\\envs\\qiskit\\lib\\site-packages (from asttokens>=2.1.0->stack-data->ipython>=6.1.0->ipywidgets>=7.6.0->ipycytoscape->qc_grader==0.18.8) (1.16.0)\n",
      "Downloading jsonpickle-3.0.3-py3-none-any.whl (40 kB)\n",
      "   ---------------------------------------- 0.0/40.8 kB ? eta -:--:--\n",
      "   ---------------------------------------- 40.8/40.8 kB 2.0 MB/s eta 0:00:00\n",
      "Downloading networkx-3.2.1-py3-none-any.whl (1.6 MB)\n",
      "   ---------------------------------------- 0.0/1.6 MB ? eta -:--:--\n",
      "   ------------- -------------------------- 0.6/1.6 MB 12.0 MB/s eta 0:00:01\n",
      "   ------------------------------- -------- 1.3/1.6 MB 13.7 MB/s eta 0:00:01\n",
      "   ---------------------------------------- 1.6/1.6 MB 13.1 MB/s eta 0:00:00\n",
      "Downloading ipycytoscape-1.3.3-py2.py3-none-any.whl (3.6 MB)\n",
      "   ---------------------------------------- 0.0/3.6 MB ? eta -:--:--\n",
      "   -------- ------------------------------- 0.8/3.6 MB 16.3 MB/s eta 0:00:01\n",
      "   ------------------ --------------------- 1.6/3.6 MB 20.9 MB/s eta 0:00:01\n",
      "   ---------------------------- ----------- 2.6/3.6 MB 18.2 MB/s eta 0:00:01\n",
      "   ---------------------------------------  3.6/3.6 MB 19.2 MB/s eta 0:00:01\n",
      "   ---------------------------------------- 3.6/3.6 MB 17.7 MB/s eta 0:00:00\n",
      "Downloading plotly-5.22.0-py3-none-any.whl (16.4 MB)\n",
      "   ---------------------------------------- 0.0/16.4 MB ? eta -:--:--\n",
      "   --- ------------------------------------ 1.3/16.4 MB 28.1 MB/s eta 0:00:01\n",
      "   ------ --------------------------------- 2.5/16.4 MB 26.5 MB/s eta 0:00:01\n",
      "   -------- ------------------------------- 3.6/16.4 MB 25.2 MB/s eta 0:00:01\n",
      "   ----------- ---------------------------- 4.9/16.4 MB 25.9 MB/s eta 0:00:01\n",
      "   --------------- ------------------------ 6.2/16.4 MB 28.2 MB/s eta 0:00:01\n",
      "   ----------------- ---------------------- 7.2/16.4 MB 27.1 MB/s eta 0:00:01\n",
      "   -------------------- ------------------- 8.5/16.4 MB 27.0 MB/s eta 0:00:01\n",
      "   ----------------------- ---------------- 9.8/16.4 MB 27.1 MB/s eta 0:00:01\n",
      "   -------------------------- ------------- 11.1/16.4 MB 26.2 MB/s eta 0:00:01\n",
      "   ----------------------------- ---------- 12.3/16.4 MB 27.3 MB/s eta 0:00:01\n",
      "   -------------------------------- ------- 13.5/16.4 MB 27.3 MB/s eta 0:00:01\n",
      "   ----------------------------------- ---- 14.7/16.4 MB 27.3 MB/s eta 0:00:01\n",
      "   -------------------------------------- - 15.6/16.4 MB 26.2 MB/s eta 0:00:01\n",
      "   ---------------------------------------  16.4/16.4 MB 25.2 MB/s eta 0:00:01\n",
      "   ---------------------------------------- 16.4/16.4 MB 23.3 MB/s eta 0:00:00\n",
      "Downloading typeguard-4.3.0-py3-none-any.whl (35 kB)\n",
      "Using cached ipywidgets-8.1.3-py3-none-any.whl (139 kB)\n",
      "Downloading spectate-1.0.1-py2.py3-none-any.whl (11 kB)\n",
      "Downloading tenacity-8.3.0-py3-none-any.whl (25 kB)\n",
      "Using cached jupyterlab_widgets-3.0.11-py3-none-any.whl (214 kB)\n",
      "Using cached widgetsnbextension-4.0.11-py3-none-any.whl (2.3 MB)\n",
      "Building wheels for collected packages: qc_grader\n",
      "  Building wheel for qc_grader (setup.py): started\n",
      "  Building wheel for qc_grader (setup.py): finished with status 'done'\n",
      "  Created wheel for qc_grader: filename=qc_grader-0.18.8-py3-none-any.whl size=35979 sha256=5c767534983c4832add415c5a6679bce819a7a8f454f9d15eaf55eb606fe9d7f\n",
      "  Stored in directory: C:\\Users\\Chris\\AppData\\Local\\Temp\\pip-ephem-wheel-cache-yac1b791\\wheels\\50\\b7\\39\\4a214a1b3d27e5a7b1a5b0f5131aff4ad3f7f07f5d6a1af3d5\n",
      "Successfully built qc_grader\n",
      "Installing collected packages: widgetsnbextension, typeguard, tenacity, spectate, networkx, jupyterlab-widgets, jsonpickle, plotly, ipywidgets, ipycytoscape, qc_grader\n",
      "Successfully installed ipycytoscape-1.3.3 ipywidgets-8.1.3 jsonpickle-3.0.3 jupyterlab-widgets-3.0.11 networkx-3.2.1 plotly-5.22.0 qc_grader-0.18.8 spectate-1.0.1 tenacity-8.3.0 typeguard-4.3.0 widgetsnbextension-4.0.11\n",
      "Note: you may need to restart the kernel to use updated packages.\n"
     ]
    },
    {
     "name": "stderr",
     "output_type": "stream",
     "text": [
      "  Running command git clone --filter=blob:none --quiet https://github.com/qiskit-community/Quantum-Challenge-Grader.git 'C:\\Users\\Chris\\AppData\\Local\\Temp\\pip-req-build-967tk0j6'\n"
     ]
    }
   ],
   "source": [
    "from qiskit import QuantumCircuit\n",
    "\n",
    "# Create a new circuit with a single qubit\n",
    "qc = QuantumCircuit(1)\n",
    "\n",
    "# Add a Not gate to qubit 0\n",
    "qc.x(0)\n",
    "\n",
    "# Return a drawing of the circuit using MatPlotLib (\"mpl\"). This is the\n",
    "# last line of the cell, so the drawing appears in the cell output.\n",
    "qc.draw(\"mpl\")\n",
    "\n",
    "### Install the other required packages as well\n",
    "\n",
    "%pip install qiskit_aer\n",
    "%pip install qiskit_ibm_runtime\n",
    "%pip install matplotlib\n",
    "%pip install pylatexenc\n",
    "%pip install prototype-zne\n",
    "%pip install git+https://github.com/qiskit-community/Quantum-Challenge-Grader.git"
   ]
  },
  {
   "cell_type": "code",
   "execution_count": 8,
   "metadata": {},
   "outputs": [
    {
     "name": "stdout",
     "output_type": "stream",
     "text": [
      "env: QXToken=bac16a78a963089b5137c432ee3e44bd3d99daf9168de72ee8bf62ef9f73f04b51d6838264865e632e49a563e1b5e3966565f2dc768c8afad3ee6acbf0fe676a\n"
     ]
    }
   ],
   "source": [
    "%set_env QXToken=bac16a78a963089b5137c432ee3e44bd3d99daf9168de72ee8bf62ef9f73f04b51d6838264865e632e49a563e1b5e3966565f2dc768c8afad3ee6acbf0fe676a\n",
    "\n",
    "### Imports\n",
    "\n",
    "from qiskit import QuantumCircuit\n",
    "from qiskit.quantum_info import SparsePauliOp\n",
    "from qiskit_ibm_runtime import EstimatorV2 as Estimator\n",
    "from qiskit_aer import AerSimulator\n",
    "import matplotlib.pyplot as plt\n",
    "from qc_grader.challenges.iqc_2024 import grade_lab0_ex1"
   ]
  },
  {
   "cell_type": "code",
   "execution_count": 9,
   "metadata": {},
   "outputs": [
    {
     "data": {
      "image/png": "[encoded data removed]",
      "text/plain": [
       "<Figure size 287.294x200.667 with 1 Axes>"
      ]
     },
     "execution_count": 9,
     "metadata": {},
     "output_type": "execute_result"
    }
   ],
   "source": [
    "# Create a new circuit with two qubits\n",
    "qc = QuantumCircuit(2)\n",
    "\n",
    "# Add a Hadamard gate to qubit 0\n",
    "qc.h(0)\n",
    "\n",
    "# Perform a CNOT gate on qubit 1, controlled by qubit 0\n",
    "qc.cx(0, 1)\n",
    "\n",
    "# Return a drawing of the circuit using MatPlotLib (\"mpl\"). This is the\n",
    "# last line of the cell, so the drawing appears in the cell output.\n",
    "qc.draw(\"mpl\")"
   ]
  },
  {
   "cell_type": "code",
   "execution_count": 11,
   "metadata": {},
   "outputs": [],
   "source": [
    "# The ZZ applies a Z operator on qubit 0, and a Z operator on qubit 1\n",
    "ZZ = SparsePauliOp('ZZ')\n",
    "\n",
    "# The ZI applies a Z operator on qubit 0, and an Identity operator on qubit 1\n",
    "ZI = SparsePauliOp('ZI')\n",
    "\n",
    "# The IX applies an Identity operator on qubit 0, and an X operator on qubit 1\n",
    "IX = SparsePauliOp('IX')\n",
    "\n",
    "\n",
    "\n",
    "### Write your code below here ###\n",
    "### Follow the same naming convention we used above\n",
    "XX = SparsePauliOp('XX')\n",
    "IZ = SparsePauliOp('IZ')\n",
    "XI = SparsePauliOp('XI')\n",
    "\n",
    "\n",
    "\n",
    "## Don't change any code past this line, but remember to run the cell.\n",
    "\n",
    "observables = [IZ, IX, ZI, XI, ZZ, XX]"
   ]
  },
  {
   "cell_type": "code",
   "execution_count": 12,
   "metadata": {},
   "outputs": [
    {
     "name": "stdout",
     "output_type": "stream",
     "text": [
      "Submitting your answer. Please wait...\n",
      "Congratulations 🎉! Your answer is correct and has been submitted.\n"
     ]
    }
   ],
   "source": [
    "# Submit your answer using following code\n",
    "\n",
    "grade_lab0_ex1(observables)"
   ]
  },
  {
   "cell_type": "code",
   "execution_count": 13,
   "metadata": {},
   "outputs": [],
   "source": [
    "# Set up the Estimator\n",
    "estimator = Estimator(backend=AerSimulator())\n",
    "\n",
    "# Submit the circuit to Estimator\n",
    "pub = (qc, observables)\n",
    "\n",
    "job = estimator.run(pubs=[pub])"
   ]
  },
  {
   "cell_type": "code",
   "execution_count": 14,
   "metadata": {},
   "outputs": [
    {
     "data": {
      "image/png": "[encoded data removed]",
      "text/plain": [
       "<Figure size 640x480 with 1 Axes>"
      ]
     },
     "metadata": {},
     "output_type": "display_data"
    }
   ],
   "source": [
    "# Collect the data\n",
    "data = ['IZ', 'IX', 'ZI', 'XI', 'ZZ', 'XX']\n",
    "values = job.result()[0].data.evs\n",
    "\n",
    "# Set up our graph\n",
    "container = plt.plot(data, values, '-o')\n",
    "\n",
    "# Label each axis\n",
    "plt.xlabel('Observables')\n",
    "plt.ylabel('Values')\n",
    "\n",
    "# Draw the final graph\n",
    "plt.show()"
   ]
  },
  {
   "cell_type": "code",
   "execution_count": 15,
   "metadata": {},
   "outputs": [
    {
     "data": {
      "image/png": "[encoded data removed]",
      "text/plain": [
       "<Figure size 640x480 with 1 Axes>"
      ]
     },
     "metadata": {},
     "output_type": "display_data"
    }
   ],
   "source": [
    "container = plt.bar(data, values, width=0.8)\n",
    "\n",
    "plt.xlabel('Observables')\n",
    "plt.ylabel('Values')\n",
    "\n",
    "plt.show()"
   ]
  }
 ],
 "metadata": {
  "kernelspec": {
   "display_name": "qiskit",
   "language": "python",
   "name": "python3"
  },
  "language_info": {
   "codemirror_mode": {
    "name": "ipython",
    "version": 3
   },
   "file_extension": ".py",
   "mimetype": "text/x-python",
   "name": "python",
   "nbconvert_exporter": "python",
   "pygments_lexer": "ipython3",
   "version": "3.12.3"
  }
 },
 "nbformat": 4,
 "nbformat_minor": 2
}

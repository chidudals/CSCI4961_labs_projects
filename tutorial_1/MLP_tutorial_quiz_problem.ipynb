{
  "cells": [
    {
      "cell_type": "markdown",
      "metadata": {
        "id": "view-in-github",
        "colab_type": "text"
      },
      "source": [
        "<a href=\"https://colab.research.google.com/github/chidudals/CSCI4961_labs_projects/blob/main/tutorial_1/MLP_tutorial_quiz_problem.ipynb\" target=\"_parent\"><img src=\"https://colab.research.google.com/assets/colab-badge.svg\" alt=\"Open In Colab\"/></a>"
      ]
    },
    {
      "cell_type": "markdown",
      "metadata": {
        "id": "6rt42VWZSpHV"
      },
      "source": [
        "# **Tutorial 1: QUIZ**     \n"
      ]
    },
    {
      "cell_type": "markdown",
      "metadata": {
        "id": "fjT6Yu3MMgyK"
      },
      "source": [
        "## Enable and test the GPU on Google Colab"
      ]
    },
    {
      "cell_type": "code",
      "execution_count": 1,
      "metadata": {
        "id": "fh0lzxdFmSx-",
        "outputId": "0b8b3523-e88d-41bd-aa41-ca0636774ef9",
        "colab": {
          "base_uri": "https://localhost:8080/",
          "height": 35
        }
      },
      "outputs": [
        {
          "output_type": "execute_result",
          "data": {
            "text/plain": [
              "'Tesla T4'"
            ],
            "application/vnd.google.colaboratory.intrinsic+json": {
              "type": "string"
            }
          },
          "metadata": {},
          "execution_count": 1
        }
      ],
      "source": [
        "import torch\n",
        "torch.cuda.device(0)\n",
        "torch.cuda.get_device_name(0)"
      ]
    },
    {
      "cell_type": "code",
      "source": [],
      "metadata": {
        "id": "NUJbhYZtXZSl"
      },
      "execution_count": null,
      "outputs": []
    },
    {
      "cell_type": "markdown",
      "metadata": {
        "id": "W7EKDupFTd_4"
      },
      "source": [
        "##**Quiz 1:** You can find the code for logistic regression on FashionMNIST dataset  below. Please change the following two parameters and report the accuracy of the model on the 10000 test images:\n",
        "\n",
        "(1-1) batch_size is 128 and learning rate is 0.0001 \\\n",
        "(1-2) batch_size is 128 and learning rate is 0.001 \\\n",
        "(1-3) batch_size is 128 and learning rate is 0.1\n",
        "\n",
        "\n"
      ]
    },
    {
      "cell_type": "code",
      "execution_count": 5,
      "metadata": {
        "id": "5twY1Wk4oEJW",
        "outputId": "1d4c597c-acc7-446e-f05b-9145e038fce2",
        "colab": {
          "base_uri": "https://localhost:8080/"
        }
      },
      "outputs": [
        {
          "output_type": "stream",
          "name": "stdout",
          "text": [
            "Epoch [1/5], Step [100/469], Loss: 0.8716\n",
            "Epoch [1/5], Step [200/469], Loss: 0.6505\n",
            "Epoch [1/5], Step [300/469], Loss: 0.5409\n",
            "Epoch [1/5], Step [400/469], Loss: 0.4951\n",
            "Epoch [2/5], Step [100/469], Loss: 0.5445\n",
            "Epoch [2/5], Step [200/469], Loss: 0.5375\n",
            "Epoch [2/5], Step [300/469], Loss: 0.5975\n",
            "Epoch [2/5], Step [400/469], Loss: 0.4355\n",
            "Epoch [3/5], Step [100/469], Loss: 0.3519\n",
            "Epoch [3/5], Step [200/469], Loss: 0.5634\n",
            "Epoch [3/5], Step [300/469], Loss: 0.3584\n",
            "Epoch [3/5], Step [400/469], Loss: 0.5024\n",
            "Epoch [4/5], Step [100/469], Loss: 0.4334\n",
            "Epoch [4/5], Step [200/469], Loss: 0.3972\n",
            "Epoch [4/5], Step [300/469], Loss: 0.4774\n",
            "Epoch [4/5], Step [400/469], Loss: 0.4536\n",
            "Epoch [5/5], Step [100/469], Loss: 0.4461\n",
            "Epoch [5/5], Step [200/469], Loss: 0.6201\n",
            "Epoch [5/5], Step [300/469], Loss: 0.4708\n",
            "Epoch [5/5], Step [400/469], Loss: 0.5475\n",
            "Accuracy of the model on the 10000 test images: 83.16000366210938 %\n"
          ]
        }
      ],
      "source": [
        "# ================================================================== #\n",
        "#                           Logistic Regression                      #\n",
        "# ================================================================== #\n",
        "import torch.nn as nn\n",
        "import torchvision\n",
        "import torchvision.transforms as transforms\n",
        "seed = 42\n",
        "torch.manual_seed(seed)\n",
        "torch.cuda.manual_seed(seed)\n",
        "\n",
        "# Hyper-parameters\n",
        "input_size = 28 * 28    # 784\n",
        "num_classes = 10\n",
        "num_epochs = 5\n",
        "batch_size = 128 # default 100\n",
        "learning_rate = 0.1\n",
        "\n",
        "# fashionMNIST dataset (images and labels)\n",
        "train_dataset = torchvision.datasets.FashionMNIST(root='../../data',\n",
        "                                           train=True,\n",
        "                                           transform=transforms.ToTensor(),\n",
        "                                           download=True)\n",
        "\n",
        "test_dataset = torchvision.datasets.FashionMNIST(root='../../data',\n",
        "                                          train=False,\n",
        "                                          transform=transforms.ToTensor())\n",
        "\n",
        "# Data loader (input pipeline)\n",
        "train_loader = torch.utils.data.DataLoader(dataset=train_dataset,\n",
        "                                           batch_size=batch_size,\n",
        "                                           shuffle=True)\n",
        "\n",
        "test_loader = torch.utils.data.DataLoader(dataset=test_dataset,\n",
        "                                          batch_size=batch_size,\n",
        "                                          shuffle=False)\n",
        "\n",
        "# Logistic regression model\n",
        "model = nn.Linear(input_size, num_classes)\n",
        "\n",
        "# Loss and optimizer\n",
        "# nn.CrossEntropyLoss() computes softmax internally\n",
        "criterion = nn.CrossEntropyLoss()\n",
        "optimizer = torch.optim.SGD(model.parameters(), lr=learning_rate)\n",
        "\n",
        "# Train the model\n",
        "total_step = len(train_loader)\n",
        "for epoch in range(num_epochs):\n",
        "    for i, (images, labels) in enumerate(train_loader):\n",
        "        # Reshape images to (batch_size, input_size)\n",
        "        images = images.reshape(-1, input_size)\n",
        "\n",
        "        # Forward pass\n",
        "        outputs = model(images)\n",
        "        loss = criterion(outputs, labels)\n",
        "\n",
        "        # Backward and optimize\n",
        "        optimizer.zero_grad()\n",
        "        loss.backward()\n",
        "        optimizer.step()\n",
        "\n",
        "        if (i+1) % 100 == 0:\n",
        "            print ('Epoch [{}/{}], Step [{}/{}], Loss: {:.4f}'\n",
        "                   .format(epoch+1, num_epochs, i+1, total_step, loss.item()))\n",
        "\n",
        "# Test the model\n",
        "# In test phase, we don't need to compute gradients (for memory efficiency)\n",
        "with torch.no_grad():\n",
        "    correct = 0\n",
        "    total = 0\n",
        "    for images, labels in test_loader:\n",
        "        images = images.reshape(-1, input_size)\n",
        "        outputs = model(images)\n",
        "        _, predicted = torch.max(outputs.data, 1)\n",
        "        total += labels.size(0)\n",
        "        correct += (predicted == labels).sum()\n",
        "\n",
        "    print('Accuracy of the model on the 10000 test images: {} %'.format(100 * correct / total))\n",
        "\n",
        "# Save the model checkpoint\n",
        "torch.save(model.state_dict(), 'model.ckpt')"
      ]
    },
    {
      "cell_type": "markdown",
      "metadata": {
        "id": "hY1Fhv8sqXw-"
      },
      "source": [
        "##**Quiz 2:** You can find the code for fully connected layer on FashionMNIST dataset  below. Please change the following two parameters and report the accuracy of the model on the 10000 test images:\n",
        "\n",
        "(2-1) change hidden size to 64 with the Adam optimizer.\\\n",
        "(2-2) change hidden size to 1024 with the Adam optimizer.\\\n",
        "(2-3) change hidden size to 8192 with the Adam optimizer."
      ]
    },
    {
      "cell_type": "code",
      "execution_count": 8,
      "metadata": {
        "id": "psDh_5-EobZE",
        "outputId": "3c15c6cd-5183-46ed-90f3-b6c488098a2f",
        "colab": {
          "base_uri": "https://localhost:8080/"
        }
      },
      "outputs": [
        {
          "output_type": "stream",
          "name": "stdout",
          "text": [
            "Epoch [1/5], Step [100/200], Loss: 0.4455\n",
            "Epoch [1/5], Step [200/200], Loss: 0.4287\n",
            "Epoch [2/5], Step [100/200], Loss: 0.3999\n",
            "Epoch [2/5], Step [200/200], Loss: 0.3375\n",
            "Epoch [3/5], Step [100/200], Loss: 0.2937\n",
            "Epoch [3/5], Step [200/200], Loss: 0.2610\n",
            "Epoch [4/5], Step [100/200], Loss: 0.2692\n",
            "Epoch [4/5], Step [200/200], Loss: 0.3389\n",
            "Epoch [5/5], Step [100/200], Loss: 0.2540\n",
            "Epoch [5/5], Step [200/200], Loss: 0.2828\n",
            "Accuracy of the network on the 10000 test images: 88.06 %\n"
          ]
        }
      ],
      "source": [
        "# ================================================================== #\n",
        "#                      Feedforward Neural Network                    #\n",
        "# ================================================================== #\n",
        "import torch\n",
        "import torch.nn as nn\n",
        "import torchvision\n",
        "import torchvision.transforms as transforms\n",
        "seed = 42\n",
        "torch.manual_seed(seed)\n",
        "torch.cuda.manual_seed(seed)\n",
        "\n",
        "# Device configuration\n",
        "device = torch.device('cuda' if torch.cuda.is_available() else 'cpu')\n",
        "\n",
        "# Hyper-parameters\n",
        "\n",
        "input_size = 784\n",
        "hidden_size = 8192 # default: 500\n",
        "num_classes = 10\n",
        "num_epochs = 5\n",
        "batch_size = 300\n",
        "learning_rate = 0.001\n",
        "\n",
        "\n",
        "# FashionMNIST dataset\n",
        "train_dataset = torchvision.datasets.FashionMNIST(root='../../data',\n",
        "                                           train=True,\n",
        "                                           transform=transforms.ToTensor(),\n",
        "                                           download=True)\n",
        "\n",
        "test_dataset = torchvision.datasets.FashionMNIST(root='../../data',\n",
        "                                          train=False,\n",
        "                                          transform=transforms.ToTensor())\n",
        "\n",
        "# Data loader\n",
        "train_loader = torch.utils.data.DataLoader(dataset=train_dataset,\n",
        "                                           batch_size=batch_size,\n",
        "                                           shuffle=True)\n",
        "\n",
        "test_loader = torch.utils.data.DataLoader(dataset=test_dataset,\n",
        "                                          batch_size=batch_size,\n",
        "                                          shuffle=False)\n",
        "\n",
        "# Fully connected neural network with one hidden layer\n",
        "class NeuralNet(nn.Module):\n",
        "    def __init__(self, input_size, hidden_size, num_classes):\n",
        "        super(NeuralNet, self).__init__()\n",
        "        self.fc1 = nn.Linear(input_size, hidden_size)\n",
        "        self.relu = nn.ReLU()\n",
        "        self.fc2 = nn.Linear(hidden_size, num_classes)\n",
        "\n",
        "    def forward(self, x):\n",
        "        out = self.fc1(x)\n",
        "        out = self.relu(out)\n",
        "        out = self.fc2(out)\n",
        "        return out\n",
        "\n",
        "model = NeuralNet(input_size, hidden_size, num_classes).to(device)\n",
        "\n",
        "# Loss and optimizer\n",
        "criterion = nn.CrossEntropyLoss()\n",
        "optimizer = torch.optim.Adam(model.parameters(), lr=learning_rate)\n",
        "\n",
        "# Train the model\n",
        "total_step = len(train_loader)\n",
        "for epoch in range(num_epochs):\n",
        "    for i, (images, labels) in enumerate(train_loader):\n",
        "        # Move tensors to the configured device\n",
        "        images = images.reshape(-1, 28*28).to(device)\n",
        "        labels = labels.to(device)\n",
        "\n",
        "        # Forward pass\n",
        "        outputs = model(images)\n",
        "        loss = criterion(outputs, labels)\n",
        "\n",
        "        # Backward and optimize\n",
        "        optimizer.zero_grad()\n",
        "        loss.backward()\n",
        "        optimizer.step()\n",
        "\n",
        "        if (i+1) % 100 == 0:\n",
        "            print ('Epoch [{}/{}], Step [{}/{}], Loss: {:.4f}'\n",
        "                   .format(epoch+1, num_epochs, i+1, total_step, loss.item()))\n",
        "\n",
        "# Test the model\n",
        "# In test phase, we don't need to compute gradients (for memory efficiency)\n",
        "with torch.no_grad():\n",
        "    correct = 0\n",
        "    total = 0\n",
        "    for images, labels in test_loader:\n",
        "        images = images.reshape(-1, 28*28).to(device)\n",
        "        labels = labels.to(device)\n",
        "        outputs = model(images)\n",
        "        _, predicted = torch.max(outputs.data, 1)\n",
        "        total += labels.size(0)\n",
        "        correct += (predicted == labels).sum().item()\n",
        "\n",
        "    print('Accuracy of the network on the 10000 test images: {} %'.format(100 * correct / total))\n",
        "\n",
        "# Save the model checkpoint\n",
        "torch.save(model.state_dict(), 'model.ckpt')"
      ]
    },
    {
      "cell_type": "markdown",
      "metadata": {
        "id": "7E8nxaHa4UZJ"
      },
      "source": [
        "(2-4) use SGD optimizer (keep other parameters as default)\\\n",
        "(2-5) use RMSprop optimizer (keep other parameters as default)\\\n",
        "Check the following optimizer list \\\n",
        "https://pytorch.org/docs/stable/optim.html"
      ]
    },
    {
      "cell_type": "code",
      "execution_count": 11,
      "metadata": {
        "id": "i79oHUcjv2Ua",
        "outputId": "098284b9-33c7-41db-dfa9-3577e899fd28",
        "colab": {
          "base_uri": "https://localhost:8080/"
        }
      },
      "outputs": [
        {
          "output_type": "stream",
          "name": "stdout",
          "text": [
            "Epoch [1/5], Step [100/600], Loss: 0.5493\n",
            "Epoch [1/5], Step [200/600], Loss: 0.4247\n",
            "Epoch [1/5], Step [300/600], Loss: 0.5873\n",
            "Epoch [1/5], Step [400/600], Loss: 0.3733\n",
            "Epoch [1/5], Step [500/600], Loss: 0.5582\n",
            "Epoch [1/5], Step [600/600], Loss: 0.4135\n",
            "Epoch [2/5], Step [100/600], Loss: 0.3881\n",
            "Epoch [2/5], Step [200/600], Loss: 0.3269\n",
            "Epoch [2/5], Step [300/600], Loss: 0.3350\n",
            "Epoch [2/5], Step [400/600], Loss: 0.3550\n",
            "Epoch [2/5], Step [500/600], Loss: 0.3377\n",
            "Epoch [2/5], Step [600/600], Loss: 0.3217\n",
            "Epoch [3/5], Step [100/600], Loss: 0.2740\n",
            "Epoch [3/5], Step [200/600], Loss: 0.3000\n",
            "Epoch [3/5], Step [300/600], Loss: 0.3672\n",
            "Epoch [3/5], Step [400/600], Loss: 0.2546\n",
            "Epoch [3/5], Step [500/600], Loss: 0.4617\n",
            "Epoch [3/5], Step [600/600], Loss: 0.2654\n",
            "Epoch [4/5], Step [100/600], Loss: 0.2065\n",
            "Epoch [4/5], Step [200/600], Loss: 0.5072\n",
            "Epoch [4/5], Step [300/600], Loss: 0.2444\n",
            "Epoch [4/5], Step [400/600], Loss: 0.3582\n",
            "Epoch [4/5], Step [500/600], Loss: 0.2016\n",
            "Epoch [4/5], Step [600/600], Loss: 0.3224\n",
            "Epoch [5/5], Step [100/600], Loss: 0.3840\n",
            "Epoch [5/5], Step [200/600], Loss: 0.3021\n",
            "Epoch [5/5], Step [300/600], Loss: 0.3959\n",
            "Epoch [5/5], Step [400/600], Loss: 0.3595\n",
            "Epoch [5/5], Step [500/600], Loss: 0.3245\n",
            "Epoch [5/5], Step [600/600], Loss: 0.2157\n",
            "Accuracy of the network on the 10000 test images: 87.13 %\n"
          ]
        }
      ],
      "source": [
        "# ================================================================== #\n",
        "#                      Feedforward Neural Network                    #\n",
        "# ================================================================== #\n",
        "import torch\n",
        "import torch.nn as nn\n",
        "import torchvision\n",
        "import torchvision.transforms as transforms\n",
        "seed = 42\n",
        "torch.manual_seed(seed)\n",
        "torch.cuda.manual_seed(seed)\n",
        "\n",
        "# Device configuration\n",
        "device = torch.device('cuda' if torch.cuda.is_available() else 'cpu')\n",
        "\n",
        "# Hyper-parameters\n",
        "\n",
        "input_size = 784\n",
        "hidden_size = 200\n",
        "num_classes = 10\n",
        "num_epochs = 5\n",
        "batch_size = 100\n",
        "learning_rate = 0.001\n",
        "\n",
        "\n",
        "# FashionMNIST dataset\n",
        "train_dataset = torchvision.datasets.FashionMNIST(root='../../data',\n",
        "                                           train=True,\n",
        "                                           transform=transforms.ToTensor(),\n",
        "                                           download=True)\n",
        "\n",
        "test_dataset = torchvision.datasets.FashionMNIST(root='../../data',\n",
        "                                          train=False,\n",
        "                                          transform=transforms.ToTensor())\n",
        "\n",
        "# Data loader\n",
        "train_loader = torch.utils.data.DataLoader(dataset=train_dataset,\n",
        "                                           batch_size=batch_size,\n",
        "                                           shuffle=True)\n",
        "\n",
        "test_loader = torch.utils.data.DataLoader(dataset=test_dataset,\n",
        "                                          batch_size=batch_size,\n",
        "                                          shuffle=False)\n",
        "\n",
        "# Fully connected neural network with one hidden layer\n",
        "class NeuralNet(nn.Module):\n",
        "    def __init__(self, input_size, hidden_size, num_classes):\n",
        "        super(NeuralNet, self).__init__()\n",
        "        self.fc1 = nn.Linear(input_size, hidden_size)\n",
        "        self.relu = nn.ReLU()\n",
        "        self.fc2 = nn.Linear(hidden_size, num_classes)\n",
        "\n",
        "    def forward(self, x):\n",
        "        out = self.fc1(x)\n",
        "        out = self.relu(out)\n",
        "        out = self.fc2(out)\n",
        "        return out\n",
        "\n",
        "model = NeuralNet(input_size, hidden_size, num_classes).to(device)\n",
        "\n",
        "# Loss and optimizer\n",
        "criterion = nn.CrossEntropyLoss()\n",
        "optimizer = torch.optim.RMSprop(model.parameters(), lr=learning_rate)\n",
        "\n",
        "# Train the model\n",
        "total_step = len(train_loader)\n",
        "for epoch in range(num_epochs):\n",
        "    for i, (images, labels) in enumerate(train_loader):\n",
        "        # Move tensors to the configured device\n",
        "        images = images.reshape(-1, 28*28).to(device)\n",
        "        labels = labels.to(device)\n",
        "\n",
        "        # Forward pass\n",
        "        outputs = model(images)\n",
        "        loss = criterion(outputs, labels)\n",
        "\n",
        "        # Backward and optimize\n",
        "        optimizer.zero_grad()\n",
        "        loss.backward()\n",
        "        optimizer.step()\n",
        "\n",
        "        if (i+1) % 100 == 0:\n",
        "            print ('Epoch [{}/{}], Step [{}/{}], Loss: {:.4f}'\n",
        "                   .format(epoch+1, num_epochs, i+1, total_step, loss.item()))\n",
        "\n",
        "# Test the model\n",
        "# In test phase, we don't need to compute gradients (for memory efficiency)\n",
        "with torch.no_grad():\n",
        "    correct = 0\n",
        "    total = 0\n",
        "    for images, labels in test_loader:\n",
        "        images = images.reshape(-1, 28*28).to(device)\n",
        "        labels = labels.to(device)\n",
        "        outputs = model(images)\n",
        "        _, predicted = torch.max(outputs.data, 1)\n",
        "        total += labels.size(0)\n",
        "        correct += (predicted == labels).sum().item()\n",
        "\n",
        "    print('Accuracy of the network on the 10000 test images: {} %'.format(100 * correct / total))\n",
        "\n",
        "# Save the model checkpoint\n",
        "torch.save(model.state_dict(), 'model.ckpt')"
      ]
    }
  ],
  "metadata": {
    "accelerator": "GPU",
    "colab": {
      "provenance": [],
      "include_colab_link": true
    },
    "gpuClass": "standard",
    "kernelspec": {
      "display_name": "Python 3",
      "name": "python3"
    },
    "language_info": {
      "name": "python"
    }
  },
  "nbformat": 4,
  "nbformat_minor": 0
}